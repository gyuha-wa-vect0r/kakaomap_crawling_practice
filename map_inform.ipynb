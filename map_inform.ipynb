{
 "cells": [
  {
   "metadata": {
    "ExecuteTime": {
     "end_time": "2024-08-28T04:35:52.457789Z",
     "start_time": "2024-08-28T04:35:50.013301Z"
    }
   },
   "cell_type": "code",
   "source": [
    "import time\n",
    "import warnings\n",
    "from selenium import webdriver\n",
    "from selenium.webdriver.chrome.service import Service\n",
    "from selenium.webdriver.chrome.options import Options\n",
    "from webdriver_manager.chrome import ChromeDriverManager\n",
    "from selenium.webdriver.common.keys import Keys\n",
    "from selenium.webdriver.common.by import By\n",
    "from bs4 import BeautifulSoup\n",
    "\n",
    "warnings.filterwarnings('ignore')\n",
    "\n",
    "# 브라우저 꺼짐 방지 옵션 설정\n",
    "chrome_options = Options()\n",
    "chrome_options.add_experimental_option(\"detach\", True)\n",
    "chrome_options.add_experimental_option(\"excludeSwitches\", [\"enable-logging\"])  # 불필요한 에러 메시지 없애기\n",
    "\n",
    "# 서비스 및 드라이버 객체 생성\n",
    "service = Service(executable_path=ChromeDriverManager().install())\n",
    "driver = webdriver.Chrome(service=service, options=chrome_options)\n"
   ],
   "id": "8763b31dd8285f17",
   "outputs": [],
   "execution_count": 14
  },
  {
   "metadata": {
    "ExecuteTime": {
     "end_time": "2024-08-28T04:36:29.191011Z",
     "start_time": "2024-08-28T04:36:23.715456Z"
    }
   },
   "cell_type": "code",
   "source": [
    "# 카카오 맵으로 이동\n",
    "url = \"https://map.kakao.com/\"\n",
    "driver.get(url)\n",
    "\n",
    "# 검색어 입력 및 검색 실행\n",
    "searchloc = '청주 카페'\n",
    "search_area = driver.find_element(By.XPATH, r'//*[@id=\"search.keyword.query\"]')\n",
    "search_area.send_keys(searchloc)\n",
    "driver.find_element(By.XPATH, r'//*[@id=\"search.keyword.submit\"]').send_keys(Keys.ENTER)\n",
    "time.sleep(5)\n",
    "driver.find_element(By.XPATH, r'//*[@id=\"info.main.options\"]/li[2]/a').send_keys(Keys.ENTER)\n"
   ],
   "id": "9ec848bf76bfa911",
   "outputs": [],
   "execution_count": 16
  },
  {
   "metadata": {
    "ExecuteTime": {
     "end_time": "2024-08-28T04:37:26.240784Z",
     "start_time": "2024-08-28T04:37:26.233953Z"
    }
   },
   "cell_type": "code",
   "source": [
    "# 숙소 정보 리스트 초기화\n",
    "room_list = []\n",
    "\n",
    "def roomNamePrint():\n",
    "    time.sleep(0.2)\n",
    "    html = driver.page_source\n",
    "    soup = BeautifulSoup(html, 'html.parser')\n",
    "    room_lists = soup.select('.placelist > .PlaceItem')\n",
    "    \n",
    "    for i, room in enumerate(room_lists):\n",
    "        temp = []\n",
    "        name = room.select('.head_item > .tit_name > .link_name')[0].text\n",
    "        score = room.select('.rating > .score > em')[0].text\n",
    "        addr = room.select('.addr > p')[0].text\n",
    "        \n",
    "        # 상세정보 탭으로 이동\n",
    "        driver.find_element(By.XPATH, r'//*[@id=\"info.search.place.list\"]/li['+str(i+1)+']/div[5]/div[4]/a[1]').send_keys(Keys.ENTER)\n",
    "        driver.switch_to.window(driver.window_handles[-1])\n",
    "        time.sleep(2)\n",
    "        rev = extract_review()  # 리뷰 추출\n",
    "        \n",
    "        # 하나의 리스트로 만들어 room_list에 추가\n",
    "        temp.append(name)\n",
    "        temp.append(score)\n",
    "        temp.append(addr[3:])\n",
    "        temp.append(rev)\n",
    "        \n",
    "        room_list.append(temp)\n",
    "\n",
    "def extract_review():\n",
    "    html = driver.page_source\n",
    "    soup = BeautifulSoup(html, 'html.parser')\n",
    "    review_lists = soup.select('.list_evaluation > li')\n",
    "    \n",
    "    rev = []\n",
    "    if len(review_lists) != 0:\n",
    "        for review in review_lists:\n",
    "            comment = review.select('.txt_comment > span')[0].text  # 리뷰\n",
    "            if len(comment) != 0:\n",
    "                rev.append(comment)\n",
    "    else:\n",
    "        rev.append(' ')\n",
    "    \n",
    "    # 다시 검색 탭으로 전환\n",
    "    driver.close()\n",
    "    driver.switch_to.window(driver.window_handles[0])\n",
    "    time.sleep(2)\n",
    "    \n",
    "    return rev"
   ],
   "id": "937023e175c14ee2",
   "outputs": [],
   "execution_count": 18
  },
  {
   "metadata": {
    "ExecuteTime": {
     "end_time": "2024-08-28T04:38:51.032296Z",
     "start_time": "2024-08-28T04:37:32.642609Z"
    }
   },
   "cell_type": "code",
   "source": [
    "# 페이지별 크롤링\n",
    "page = 1\n",
    "page2 = 1\n",
    "for i in range(1, 9):\n",
    "    try:\n",
    "        page2 += 1\n",
    "        print(page, 'page')\n",
    "        if i > 5:\n",
    "            xpath = '/html/body/div[5]/div[2]/div[1]/div[7]/div[6]/div/a['+str(i-5)+']'\n",
    "        else:\n",
    "            xpath = '/html/body/div[5]/div[2]/div[1]/div[7]/div[6]/div/a['+str(i)+']'\n",
    "        driver.find_element(By.XPATH, xpath).send_keys(Keys.ENTER)\n",
    "        roomNamePrint()\n",
    "        if page2 > 5:\n",
    "            page2 = 1\n",
    "            driver.find_element(By.XPATH, r'//*[@id=\"info.search.page.next\"]').send_keys(Keys.ENTER)\n",
    "        page += 1\n",
    "    except:\n",
    "        break\n",
    "        \n",
    "print('크롤링 완료')\n",
    "driver.quit()\n"
   ],
   "id": "4b754af14f5586f3",
   "outputs": [
    {
     "name": "stdout",
     "output_type": "stream",
     "text": [
      "1 page\n",
      "2 page\n",
      "크롤링 완료\n"
     ]
    }
   ],
   "execution_count": 19
  },
  {
   "metadata": {
    "ExecuteTime": {
     "end_time": "2024-08-28T04:48:59.853251Z",
     "start_time": "2024-08-28T04:48:59.845281Z"
    }
   },
   "cell_type": "code",
   "source": [
    "import csv\n",
    "\n",
    "# room_list 데이터를 CSV 파일로 저장\n",
    "csv_filename = 'hanok_stay_data.csv'\n",
    "\n",
    "# CSV 파일을 쓰기 모드로 열고 데이터 저장\n",
    "with open(csv_filename, mode='w', newline='', encoding='utf-8-sig') as file:\n",
    "    writer = csv.writer(file)\n",
    "    \n",
    "    # 헤더 작성\n",
    "    writer.writerow([\"Name\", \"Score\", \"Location\", \"Reviews\"])\n",
    "    \n",
    "    # 데이터 작성\n",
    "    for room in room_list:\n",
    "        # Reviews 리스트를 문자열로 변환하여 저장\n",
    "        writer.writerow([room[0], room[1], room[2], \"; \".join(room[3])])\n",
    "\n",
    "print(f'데이터가 CSV 파일로 저장되었습니다: {csv_filename}')"
   ],
   "id": "236999af0286343c",
   "outputs": [
    {
     "name": "stdout",
     "output_type": "stream",
     "text": [
      "데이터가 CSV 파일로 저장되었습니다: hanok_stay_data.csv\n"
     ]
    }
   ],
   "execution_count": 31
  }
 ],
 "metadata": {
  "kernelspec": {
   "display_name": "Python 3",
   "language": "python",
   "name": "python3"
  },
  "language_info": {
   "codemirror_mode": {
    "name": "ipython",
    "version": 2
   },
   "file_extension": ".py",
   "mimetype": "text/x-python",
   "name": "python",
   "nbconvert_exporter": "python",
   "pygments_lexer": "ipython2",
   "version": "2.7.6"
  }
 },
 "nbformat": 4,
 "nbformat_minor": 5
}
